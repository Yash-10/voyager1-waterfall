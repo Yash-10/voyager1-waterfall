{
  "nbformat": 4,
  "nbformat_minor": 0,
  "metadata": {
    "colab": {
      "name": "voyager_waterfall.ipynb",
      "provenance": [],
      "collapsed_sections": []
    },
    "kernelspec": {
      "name": "python3",
      "display_name": "Python 3"
    },
    "language_info": {
      "name": "python"
    }
  },
  "cells": [
    {
      "cell_type": "code",
      "metadata": {
        "colab": {
          "base_uri": "https://localhost:8080/"
        },
        "id": "ZeOOwkGVd2iC",
        "outputId": "ba3dc2b6-463a-4329-e829-133e8ea8a5a7"
      },
      "source": [
        "!pip install blimpy"
      ],
      "execution_count": 1,
      "outputs": [
        {
          "output_type": "stream",
          "name": "stdout",
          "text": [
            "Collecting blimpy\n",
            "  Downloading blimpy-2.0.28-py3-none-any.whl (96 kB)\n",
            "\u001b[K     |████████████████████████████████| 96 kB 2.0 MB/s \n",
            "\u001b[?25hRequirement already satisfied: psutil in /usr/local/lib/python3.7/dist-packages (from blimpy) (5.4.8)\n",
            "Requirement already satisfied: six in /usr/local/lib/python3.7/dist-packages (from blimpy) (1.15.0)\n",
            "Requirement already satisfied: h5py in /usr/local/lib/python3.7/dist-packages (from blimpy) (3.1.0)\n",
            "Requirement already satisfied: astropy in /usr/local/lib/python3.7/dist-packages (from blimpy) (4.3.1)\n",
            "Collecting hdf5plugin\n",
            "  Downloading hdf5plugin-3.1.1-py3-none-manylinux_2_17_x86_64.manylinux2014_x86_64.whl (8.0 MB)\n",
            "\u001b[K     |████████████████████████████████| 8.0 MB 15.1 MB/s \n",
            "\u001b[?25hRequirement already satisfied: Pillow in /usr/local/lib/python3.7/dist-packages (from blimpy) (7.1.2)\n",
            "Requirement already satisfied: scipy in /usr/local/lib/python3.7/dist-packages (from blimpy) (1.4.1)\n",
            "Requirement already satisfied: pandas in /usr/local/lib/python3.7/dist-packages (from blimpy) (1.1.5)\n",
            "Requirement already satisfied: matplotlib in /usr/local/lib/python3.7/dist-packages (from blimpy) (3.2.2)\n",
            "Requirement already satisfied: cython in /usr/local/lib/python3.7/dist-packages (from blimpy) (0.29.24)\n",
            "Requirement already satisfied: setuptools in /usr/local/lib/python3.7/dist-packages (from blimpy) (57.4.0)\n",
            "Requirement already satisfied: numpy>=1.19 in /usr/local/lib/python3.7/dist-packages (from blimpy) (1.19.5)\n",
            "Requirement already satisfied: pyerfa>=1.7.3 in /usr/local/lib/python3.7/dist-packages (from astropy->blimpy) (2.0.0)\n",
            "Requirement already satisfied: importlib-metadata in /usr/local/lib/python3.7/dist-packages (from astropy->blimpy) (4.6.4)\n",
            "Requirement already satisfied: cached-property in /usr/local/lib/python3.7/dist-packages (from h5py->blimpy) (1.5.2)\n",
            "Requirement already satisfied: typing-extensions>=3.6.4 in /usr/local/lib/python3.7/dist-packages (from importlib-metadata->astropy->blimpy) (3.7.4.3)\n",
            "Requirement already satisfied: zipp>=0.5 in /usr/local/lib/python3.7/dist-packages (from importlib-metadata->astropy->blimpy) (3.5.0)\n",
            "Requirement already satisfied: pyparsing!=2.0.4,!=2.1.2,!=2.1.6,>=2.0.1 in /usr/local/lib/python3.7/dist-packages (from matplotlib->blimpy) (2.4.7)\n",
            "Requirement already satisfied: python-dateutil>=2.1 in /usr/local/lib/python3.7/dist-packages (from matplotlib->blimpy) (2.8.2)\n",
            "Requirement already satisfied: kiwisolver>=1.0.1 in /usr/local/lib/python3.7/dist-packages (from matplotlib->blimpy) (1.3.1)\n",
            "Requirement already satisfied: cycler>=0.10 in /usr/local/lib/python3.7/dist-packages (from matplotlib->blimpy) (0.10.0)\n",
            "Requirement already satisfied: pytz>=2017.2 in /usr/local/lib/python3.7/dist-packages (from pandas->blimpy) (2018.9)\n",
            "Installing collected packages: hdf5plugin, blimpy\n",
            "Successfully installed blimpy-2.0.28 hdf5plugin-3.1.1\n"
          ]
        }
      ]
    },
    {
      "cell_type": "code",
      "metadata": {
        "colab": {
          "base_uri": "https://localhost:8080/"
        },
        "id": "DAMtsAmyd5k7",
        "outputId": "e6295833-8d78-48dd-fce4-2d6eddfda546"
      },
      "source": [
        "!wget http://blpd0.ssl.berkeley.edu/Voyager_data/Voyager1.single_coarse.fine_res.h5"
      ],
      "execution_count": 2,
      "outputs": [
        {
          "output_type": "stream",
          "name": "stdout",
          "text": [
            "--2021-09-15 17:18:56--  http://blpd0.ssl.berkeley.edu/Voyager_data/Voyager1.single_coarse.fine_res.h5\n",
            "Resolving blpd0.ssl.berkeley.edu (blpd0.ssl.berkeley.edu)... 208.68.240.101\n",
            "Connecting to blpd0.ssl.berkeley.edu (blpd0.ssl.berkeley.edu)|208.68.240.101|:80... connected.\n",
            "HTTP request sent, awaiting response... 200 OK\n",
            "Length: 50549227 (48M) [application/octet-stream]\n",
            "Saving to: ‘Voyager1.single_coarse.fine_res.h5’\n",
            "\n",
            "Voyager1.single_coa 100%[===================>]  48.21M  8.82MB/s    in 17s     \n",
            "\n",
            "2021-09-15 17:19:14 (2.83 MB/s) - ‘Voyager1.single_coarse.fine_res.h5’ saved [50549227/50549227]\n",
            "\n"
          ]
        }
      ]
    },
    {
      "cell_type": "code",
      "metadata": {
        "id": "ZmpESMYVd7U8"
      },
      "source": [
        "import matplotlib.pyplot as plt\n",
        "from blimpy import Waterfall"
      ],
      "execution_count": 1,
      "outputs": []
    },
    {
      "cell_type": "code",
      "metadata": {
        "id": "fc-7lJs4eES5"
      },
      "source": [
        "file_path = 'Voyager1.single_coarse.fine_res.h5'\n",
        "obs = Waterfall(file_path)  # Read observation data"
      ],
      "execution_count": 2,
      "outputs": []
    },
    {
      "cell_type": "code",
      "metadata": {
        "colab": {
          "base_uri": "https://localhost:8080/"
        },
        "id": "E3c3Tx1FeJdz",
        "outputId": "d6f1a4e3-ec8a-4584-e0ed-76ffd2fc4073"
      },
      "source": [
        "obs.info()"
      ],
      "execution_count": 3,
      "outputs": [
        {
          "output_type": "stream",
          "name": "stdout",
          "text": [
            "\n",
            "--- File Info ---\n",
            "DIMENSION_LABELS :   ['frequency' 'feed_id' 'time']\n",
            "        az_start :                              0.0\n",
            "       data_type :                                1\n",
            "            fch1 :            8421.386717353016 MHz\n",
            "            foff :      -2.7939677238464355e-06 MHz\n",
            "           ibeam :                                1\n",
            "      machine_id :                               20\n",
            "          nbeams :                                1\n",
            "           nbits :                               32\n",
            "          nchans :                          1048576\n",
            "            nifs :                                1\n",
            "     rawdatafile : guppi_57650_67573_Voyager1_0002.0000.raw\n",
            "     source_name :                         Voyager1\n",
            "         src_dej :                       12:10:58.8\n",
            "         src_raj :                     17:10:03.984\n",
            "    telescope_id :                                6\n",
            "           tsamp :                     18.253611008\n",
            "   tstart (ISOT) :          2016-09-19T18:46:13.000\n",
            "    tstart (MJD) :                57650.78209490741\n",
            "        za_start :                              0.0\n",
            "\n",
            "Num ints in file :                               16\n",
            "      File shape :                 (16, 1, 1048576)\n",
            "--- Selection Info ---\n",
            "Data selection shape :                 (16, 1, 1048576)\n",
            "Minimum freq (MHz) :                8418.457032646984\n",
            "Maximum freq (MHz) :                8421.386717353016\n"
          ]
        }
      ]
    },
    {
      "cell_type": "code",
      "metadata": {
        "colab": {
          "base_uri": "https://localhost:8080/",
          "height": 312
        },
        "id": "yjCK0bImeNGp",
        "outputId": "89758fa4-7fd9-459f-dc55-381519524bff"
      },
      "source": [
        "obs.plot_spectrum(f_start=8419.2740, f_stop=8419.2750)\n",
        "plt.savefig(\"voyager1_waterfall_plot.png\")"
      ],
      "execution_count": 6,
      "outputs": [
        {
          "output_type": "stream",
          "name": "stdout",
          "text": [
            "extracting integration 0...\n"
          ]
        },
        {
          "output_type": "display_data",
          "data": {
            "image/png": "[encoded data removed]",
            "text/plain": [
              "<Figure size 432x288 with 1 Axes>"
            ]
          },
          "metadata": {
            "needs_background": "light"
          }
        }
      ]
    },
    {
      "cell_type": "code",
      "metadata": {
        "id": "uLXQzYzIecUS"
      },
      "source": [
        ""
      ],
      "execution_count": null,
      "outputs": []
    }
  ]
}